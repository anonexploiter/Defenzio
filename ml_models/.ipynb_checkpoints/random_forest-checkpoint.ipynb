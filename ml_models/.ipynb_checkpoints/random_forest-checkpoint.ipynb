{
 "cells": [
  {
   "cell_type": "code",
   "execution_count": 1,
   "metadata": {
    "id": "ha20DXZfK3B_"
   },
   "outputs": [],
   "source": [
    "import numpy as np\n",
    "import pandas as pd\n",
    "pd.set_option('display.max_columns',None)\n",
    "from sklearn.model_selection import train_test_split\n",
    "from sklearn.preprocessing import LabelEncoder"
   ]
  },
  {
   "cell_type": "code",
   "execution_count": 2,
   "metadata": {
    "id": "kjmiurkcLOaF"
   },
   "outputs": [],
   "source": [
    "df1 = pd.read_csv('D:/pl/Zero-shield-main/Zero-shield-main/dataset/Friday-WorkingHours-Afternoon-DDos.pcap_ISCX.csv')  \n",
    "df2 = pd.read_csv('D:/pl/Zero-shield-main/Zero-shield-main/dataset/Friday-WorkingHours-Afternoon-PortScan.pcap_ISCX.csv')\n",
    "df3 = pd.read_csv('D:/pl/Zero-shield-main/Zero-shield-main/dataset/Friday-WorkingHours-Morning.pcap_ISCX.csv')\n",
    "df4 = pd.read_csv('D:/pl/Zero-shield-main/Zero-shield-main/dataset/Monday-WorkingHours.pcap_ISCX.csv')\n",
    "df5 = pd.read_csv('D:/pl/Zero-shield-main/Zero-shield-main/dataset/Thursday-WorkingHours-Afternoon-Infilteration.pcap_ISCX.csv')\n",
    "df6 = pd.read_csv('D:/pl/Zero-shield-main/Zero-shield-main/dataset/Thursday-WorkingHours-Morning-WebAttacks.pcap_ISCX.csv')\n",
    "df7 = pd.read_csv('D:/pl/Zero-shield-main/Zero-shield-main/dataset/Tuesday-WorkingHours.pcap_ISCX.csv')\n",
    "df8 = pd.read_csv('D:/pl/Zero-shield-main/Zero-shield-main/dataset/Wednesday-workingHours.pcap_ISCX.csv')"
   ]
  },
  {
   "cell_type": "code",
   "execution_count": 3,
   "metadata": {
    "colab": {
     "base_uri": "https://localhost:8080/"
    },
    "id": "S4yASk-OML0L",
    "outputId": "d9d23169-3838-472f-e20c-4a6faa964202"
   },
   "outputs": [
    {
     "data": {
      "text/plain": [
       "(2830743, 79)"
      ]
     },
     "execution_count": 3,
     "metadata": {},
     "output_type": "execute_result"
    }
   ],
   "source": [
    "df = pd.concat([df1,df2])\n",
    "# del df1,df2\n",
    "df = pd.concat([df,df3])\n",
    "# del df3\n",
    "df = pd.concat([df,df4])\n",
    "# del df4\n",
    "df = pd.concat([df,df5])\n",
    "# del df5/\n",
    "df = pd.concat([df,df6])\n",
    "# del df6\n",
    "df = pd.concat([df,df7])\n",
    "# del df7\n",
    "df = pd.concat([df,df8])\n",
    "# del df8\n",
    "df.shape"
   ]
  },
  {
   "cell_type": "code",
   "execution_count": 4,
   "metadata": {
    "colab": {
     "base_uri": "https://localhost:8080/"
    },
    "id": "fnyMU7tSMSoW",
    "outputId": "76771e0e-153f-4744-f070-e2e18160f2b0"
   },
   "outputs": [
    {
     "data": {
      "text/plain": [
       "Index([' Destination Port', ' Flow Duration', ' Total Fwd Packets',\n",
       "       ' Total Backward Packets', 'Total Length of Fwd Packets',\n",
       "       ' Total Length of Bwd Packets', ' Fwd Packet Length Max',\n",
       "       ' Fwd Packet Length Min', ' Fwd Packet Length Mean',\n",
       "       ' Fwd Packet Length Std', 'Bwd Packet Length Max',\n",
       "       ' Bwd Packet Length Min', ' Bwd Packet Length Mean',\n",
       "       ' Bwd Packet Length Std', 'Flow Bytes/s', ' Flow Packets/s',\n",
       "       ' Flow IAT Mean', ' Flow IAT Std', ' Flow IAT Max', ' Flow IAT Min',\n",
       "       'Fwd IAT Total', ' Fwd IAT Mean', ' Fwd IAT Std', ' Fwd IAT Max',\n",
       "       ' Fwd IAT Min', 'Bwd IAT Total', ' Bwd IAT Mean', ' Bwd IAT Std',\n",
       "       ' Bwd IAT Max', ' Bwd IAT Min', 'Fwd PSH Flags', ' Bwd PSH Flags',\n",
       "       ' Fwd URG Flags', ' Bwd URG Flags', ' Fwd Header Length',\n",
       "       ' Bwd Header Length', 'Fwd Packets/s', ' Bwd Packets/s',\n",
       "       ' Min Packet Length', ' Max Packet Length', ' Packet Length Mean',\n",
       "       ' Packet Length Std', ' Packet Length Variance', 'FIN Flag Count',\n",
       "       ' SYN Flag Count', ' RST Flag Count', ' PSH Flag Count',\n",
       "       ' ACK Flag Count', ' URG Flag Count', ' CWE Flag Count',\n",
       "       ' ECE Flag Count', ' Down/Up Ratio', ' Average Packet Size',\n",
       "       ' Avg Fwd Segment Size', ' Avg Bwd Segment Size',\n",
       "       ' Fwd Header Length.1', 'Fwd Avg Bytes/Bulk', ' Fwd Avg Packets/Bulk',\n",
       "       ' Fwd Avg Bulk Rate', ' Bwd Avg Bytes/Bulk', ' Bwd Avg Packets/Bulk',\n",
       "       'Bwd Avg Bulk Rate', 'Subflow Fwd Packets', ' Subflow Fwd Bytes',\n",
       "       ' Subflow Bwd Packets', ' Subflow Bwd Bytes', 'Init_Win_bytes_forward',\n",
       "       ' Init_Win_bytes_backward', ' act_data_pkt_fwd',\n",
       "       ' min_seg_size_forward', 'Active Mean', ' Active Std', ' Active Max',\n",
       "       ' Active Min', 'Idle Mean', ' Idle Std', ' Idle Max', ' Idle Min',\n",
       "       ' Label'],\n",
       "      dtype='object')"
      ]
     },
     "execution_count": 4,
     "metadata": {},
     "output_type": "execute_result"
    }
   ],
   "source": [
    "df.columns"
   ]
  },
  {
   "cell_type": "code",
   "execution_count": 5,
   "metadata": {
    "colab": {
     "base_uri": "https://localhost:8080/"
    },
    "id": "75jH77vYR6pQ",
    "outputId": "e0e24152-d571-4282-a866-6f3d51db04e4"
   },
   "outputs": [
    {
     "data": {
      "text/plain": [
       " Destination Port        0\n",
       " ECE Flag Count          0\n",
       " Fwd Avg Packets/Bulk    0\n",
       "Fwd Avg Bytes/Bulk       0\n",
       " Fwd Header Length.1     0\n",
       "                        ..\n",
       "Bwd IAT Total            0\n",
       " Fwd IAT Min             0\n",
       " Fwd IAT Max             0\n",
       " Fwd IAT Std             0\n",
       " Label                   0\n",
       "Length: 79, dtype: int64"
      ]
     },
     "execution_count": 5,
     "metadata": {},
     "output_type": "execute_result"
    }
   ],
   "source": [
    "df.isnull().sum().sort_values(ascending = False)\n",
    "df.dropna(inplace=True)\n",
    "df.isnull().sum().sort_values(ascending = False)"
   ]
  },
  {
   "cell_type": "code",
   "execution_count": 6,
   "metadata": {
    "colab": {
     "base_uri": "https://localhost:8080/"
    },
    "id": "rjRcaeXDSjPI",
    "outputId": "ed9945ce-d167-4041-acb2-d64ce77d8742"
   },
   "outputs": [
    {
     "data": {
      "text/plain": [
       "['BENIGN',\n",
       " 'DDoS',\n",
       " 'PortScan',\n",
       " 'Bot',\n",
       " 'Infiltration',\n",
       " 'Web Attack � Brute Force',\n",
       " 'Web Attack � XSS',\n",
       " 'Web Attack � Sql Injection',\n",
       " 'FTP-Patator',\n",
       " 'SSH-Patator',\n",
       " 'DoS slowloris',\n",
       " 'DoS Slowhttptest',\n",
       " 'DoS Hulk',\n",
       " 'DoS GoldenEye',\n",
       " 'Heartbleed']"
      ]
     },
     "execution_count": 6,
     "metadata": {},
     "output_type": "execute_result"
    }
   ],
   "source": [
    "originals = list(df[' Label'].unique())\n",
    "originals"
   ]
  },
  {
   "cell_type": "code",
   "execution_count": 7,
   "metadata": {
    "colab": {
     "base_uri": "https://localhost:8080/"
    },
    "id": "7YalRMjpanK1",
    "outputId": "ec89adea-4433-49ba-e27b-9eeafa844e35"
   },
   "outputs": [
    {
     "name": "stdout",
     "output_type": "stream",
     "text": [
      "BENIGN                        2272688\n",
      "DoS Hulk                       230124\n",
      "PortScan                       158930\n",
      "DDoS                           128027\n",
      "DoS GoldenEye                   10293\n",
      "FTP-Patator                      7938\n",
      "SSH-Patator                      5897\n",
      "DoS slowloris                    5796\n",
      "DoS Slowhttptest                 5499\n",
      "Bot                              1966\n",
      "Web Attack � Brute Force         1507\n",
      "Web Attack � XSS                  652\n",
      "Infiltration                       36\n",
      "Web Attack � Sql Injection         21\n",
      "Heartbleed                         11\n",
      "Name:  Label, dtype: int64\n"
     ]
    }
   ],
   "source": [
    "print(df[' Label'].value_counts())"
   ]
  },
  {
   "cell_type": "code",
   "execution_count": 8,
   "metadata": {
    "id": "hwSLF6eDSj84"
   },
   "outputs": [],
   "source": [
    "def targetify(i):\n",
    "    if i == 'BENIGN':\n",
    "        return 0\n",
    "    else:\n",
    "        return 1"
   ]
  },
  {
   "cell_type": "code",
   "execution_count": 9,
   "metadata": {
    "colab": {
     "base_uri": "https://localhost:8080/"
    },
    "id": "JpDnuf1SSj5f",
    "outputId": "91ca1702-6bf6-49c9-b7b0-f0bed80bb66b"
   },
   "outputs": [
    {
     "name": "stdout",
     "output_type": "stream",
     "text": [
      "0    2272688\n",
      "1     556697\n",
      "Name:  Label, dtype: int64\n"
     ]
    }
   ],
   "source": [
    "df[\" Label\"] = df[\" Label\"].apply(targetify)\n",
    "print(df[' Label'].value_counts())\n"
   ]
  },
  {
   "cell_type": "code",
   "execution_count": 10,
   "metadata": {
    "colab": {
     "base_uri": "https://localhost:8080/"
    },
    "id": "M2HBm8t6Sj3L",
    "outputId": "c47440f5-72b3-4010-b365-04d793762a61"
   },
   "outputs": [
    {
     "data": {
      "text/plain": [
       "array([0, 1], dtype=int64)"
      ]
     },
     "execution_count": 10,
     "metadata": {},
     "output_type": "execute_result"
    }
   ],
   "source": [
    "df[' Label'].unique()"
   ]
  },
  {
   "cell_type": "code",
   "execution_count": 11,
   "metadata": {
    "colab": {
     "base_uri": "https://localhost:8080/"
    },
    "id": "awYfe0wzSj0x",
    "outputId": "74df9765-94a6-40a8-8fdd-727ccd28c18a"
   },
   "outputs": [
    {
     "data": {
      "text/plain": [
       "0    2272688\n",
       "1     556697\n",
       "Name:  Label, dtype: int64"
      ]
     },
     "execution_count": 11,
     "metadata": {},
     "output_type": "execute_result"
    }
   ],
   "source": [
    "df[' Label'].value_counts()"
   ]
  },
  {
   "cell_type": "code",
   "execution_count": 12,
   "metadata": {
    "colab": {
     "base_uri": "https://localhost:8080/"
    },
    "id": "GWAtvRA-SjyT",
    "outputId": "1690f49e-2f5c-4be7-eabf-3e4936fc54f6"
   },
   "outputs": [
    {
     "name": "stdout",
     "output_type": "stream",
     "text": [
      "(2829385, 79)\n",
      "(2522009, 79)\n"
     ]
    }
   ],
   "source": [
    "print(df.shape)\n",
    "df=df.drop_duplicates(keep='first')\n",
    "print(df.shape)"
   ]
  },
  {
   "cell_type": "code",
   "execution_count": 13,
   "metadata": {
    "colab": {
     "base_uri": "https://localhost:8080/"
    },
    "id": "R8QRzwtGT78X",
    "outputId": "3f276017-a26c-4d20-fd27-36c5c24e99e9"
   },
   "outputs": [
    {
     "name": "stderr",
     "output_type": "stream",
     "text": [
      "C:\\Users\\black\\AppData\\Local\\Temp\\ipykernel_7808\\789146936.py:1: FutureWarning: In a future version of pandas all arguments of DataFrame.any and Series.any will be keyword-only.\n",
      "  df = df[~df.isin([np.nan, np.inf, -np.inf]).any(1)]\n"
     ]
    },
    {
     "data": {
      "text/plain": [
       "(2520798, 79)"
      ]
     },
     "execution_count": 13,
     "metadata": {},
     "output_type": "execute_result"
    }
   ],
   "source": [
    "df = df[~df.isin([np.nan, np.inf, -np.inf]).any(1)]\n",
    "df.shape"
   ]
  },
  {
   "cell_type": "code",
   "execution_count": 14,
   "metadata": {
    "colab": {
     "base_uri": "https://localhost:8080/"
    },
    "id": "asIJFbDFT742",
    "outputId": "81b7cd16-93ef-474b-9d27-be4e950f3283"
   },
   "outputs": [
    {
     "name": "stdout",
     "output_type": "stream",
     "text": [
      "[-0.15960255729076697, 0.27900814297274273, -0.0030550685202469117, -0.003175640392710036, -0.015079011552927209, -0.002127195067598197, -0.049019358048620405, -0.13112368686685683, -0.07437716814267513, -0.026204060184124068, 0.5964718882005696, -0.26513451200472454, 0.5944125702997664, 0.6117193164573792, -0.022131470710685112, -0.06859141275968125, 0.2246124905646447, 0.4109717167458292, 0.47151959479735245, 0.018012919160030016, 0.2800692956396266, 0.1929963357134681, 0.5061101230900161, 0.47080034876379584, -0.021360911597259183, 0.0060896780582666695, 0.022218330357802706, 0.19791983541908903, 0.1464880325469376, -0.03239144379960784, -0.08182439079530555, nan, -0.0025395553250187356, nan, 0.0005928737574115953, 0.0007843304337794194, -0.07531171854373958, 0.01623754288426453, -0.2769490961764388, 0.5554739541003533, 0.5209495581330975, 0.5734866484673178, 0.5367758036606631, 0.2719442718540575, -0.08182439079530555, -0.007437499559446921, 0.1443626631616928, 0.10380014801756379, -0.14415186089372078, -0.0025395553250187356, -0.007453749008937983, -0.043427898490383414, 0.5216158184252779, -0.07437716814267513, 0.5944125702997395, 0.0005928737574115953, nan, nan, nan, nan, nan, nan, -0.0030550685202469117, -0.015098943142076863, -0.003175640392710036, -0.002127152202320948, -0.002814987386765917, -0.09305410579760343, -0.0026395165824656588, 0.00121865351363734, 0.028072417724471836, -0.02254613997753356, -0.008216632707332243, 0.037264856856996924, 0.4708605227304797, 0.12893362864362917, 0.4756099264899195, 0.45843792114282633, 1.0] \n",
      "\n",
      "[2, 3, 5, 25, 32, 34, 35, 45, 32, 50, 34, 2, 3, 65, 66, 68, 69, 72] \n",
      "\n"
     ]
    }
   ],
   "source": [
    "crr=list(df.corr()[' Label'])\n",
    "print(crr,\"\\n\")\n",
    "ls=[crr.index(i) for i in crr if abs(i)<0.01]\n",
    "print(ls,\"\\n\")"
   ]
  },
  {
   "cell_type": "code",
   "execution_count": 15,
   "metadata": {
    "colab": {
     "base_uri": "https://localhost:8080/"
    },
    "id": "vbFuY3MuT72x",
    "outputId": "37f4cce3-16d6-4280-e20f-df7e6f450bbf"
   },
   "outputs": [
    {
     "data": {
      "text/plain": [
       "[' Total Fwd Packets',\n",
       " ' Total Backward Packets',\n",
       " ' min_seg_size_forward',\n",
       " ' Fwd Header Length',\n",
       " ' ECE Flag Count',\n",
       " ' RST Flag Count',\n",
       " ' Active Max',\n",
       " ' Fwd URG Flags',\n",
       " ' Subflow Bwd Bytes',\n",
       " 'Bwd IAT Total',\n",
       " 'Init_Win_bytes_forward',\n",
       " ' act_data_pkt_fwd',\n",
       " ' Bwd Header Length',\n",
       " ' Total Length of Bwd Packets']"
      ]
     },
     "execution_count": 15,
     "metadata": {},
     "output_type": "execute_result"
    }
   ],
   "source": [
    "colsfromindex = list(set(df.columns[ls]))\n",
    "colsfromindex"
   ]
  },
  {
   "cell_type": "code",
   "execution_count": 16,
   "metadata": {
    "id": "NNdje5WwT70a"
   },
   "outputs": [],
   "source": [
    "colsfromindex.remove(' Total Fwd Packets')\n",
    "colsfromindex.remove(' Total Backward Packets')\n",
    "colsfromindex.remove(' Total Length of Bwd Packets')\n",
    "colsfromindex.remove(' RST Flag Count')\n",
    "colsfromindex.remove('Bwd IAT Total')"
   ]
  },
  {
   "cell_type": "code",
   "execution_count": 17,
   "metadata": {
    "colab": {
     "base_uri": "https://localhost:8080/"
    },
    "id": "cSE_a-ETURe_",
    "outputId": "98838b0d-8561-4bed-a765-9c3621d77a07"
   },
   "outputs": [
    {
     "data": {
      "text/plain": [
       "[' min_seg_size_forward',\n",
       " ' Fwd Header Length',\n",
       " ' ECE Flag Count',\n",
       " ' Active Max',\n",
       " ' Fwd URG Flags',\n",
       " ' Subflow Bwd Bytes',\n",
       " 'Init_Win_bytes_forward',\n",
       " ' act_data_pkt_fwd',\n",
       " ' Bwd Header Length']"
      ]
     },
     "execution_count": 17,
     "metadata": {},
     "output_type": "execute_result"
    }
   ],
   "source": [
    "colsfromindex"
   ]
  },
  {
   "cell_type": "code",
   "execution_count": 18,
   "metadata": {
    "colab": {
     "base_uri": "https://localhost:8080/"
    },
    "id": "fIpxl6IUUYa2",
    "outputId": "1494710a-595b-45ee-883b-f67b63e063e8"
   },
   "outputs": [
    {
     "name": "stdout",
     "output_type": "stream",
     "text": [
      "(2520798, 79)\n",
      "(2520798, 70)\n"
     ]
    }
   ],
   "source": [
    "print(df.shape)\n",
    "df.drop(colsfromindex, axis=1, inplace=True)\n",
    "print(df.shape)"
   ]
  },
  {
   "cell_type": "code",
   "execution_count": 19,
   "metadata": {
    "id": "PR6n9B6VUYXU"
   },
   "outputs": [],
   "source": [
    "df.head()\n",
    "traincols = list(df.columns)"
   ]
  },
  {
   "cell_type": "code",
   "execution_count": 20,
   "metadata": {
    "colab": {
     "base_uri": "https://localhost:8080/"
    },
    "id": "YAc1flWbUct0",
    "outputId": "4ab64b07-3d06-480c-f316-82a7e540fd9a"
   },
   "outputs": [
    {
     "name": "stdout",
     "output_type": "stream",
     "text": [
      "(2520798, 69)\n",
      "(2520798,)\n"
     ]
    }
   ],
   "source": [
    "x=df.drop([' Label'],axis=1)\n",
    "y=df[' Label']\n",
    "print(x.shape)\n",
    "print(y.shape)"
   ]
  },
  {
   "cell_type": "code",
   "execution_count": 21,
   "metadata": {
    "id": "x0rEq1vuUcqb"
   },
   "outputs": [],
   "source": [
    "x_train,x_test,y_train,y_test = train_test_split(x,y)"
   ]
  },
  {
   "cell_type": "code",
   "execution_count": 22,
   "metadata": {
    "colab": {
     "base_uri": "https://localhost:8080/"
    },
    "id": "iumpMDvzUcfO",
    "outputId": "3ec9d433-82b6-4093-d164-4131e15b4c88"
   },
   "outputs": [
    {
     "data": {
      "text/plain": [
       "(1890598, 69)"
      ]
     },
     "execution_count": 22,
     "metadata": {},
     "output_type": "execute_result"
    }
   ],
   "source": [
    "x_train.shape"
   ]
  },
  {
   "cell_type": "code",
   "execution_count": 23,
   "metadata": {
    "colab": {
     "base_uri": "https://localhost:8080/",
     "height": 322
    },
    "id": "q5ecttZPWHr5",
    "outputId": "a9b33ccf-60f8-4fa2-b81d-af900e157b59"
   },
   "outputs": [
    {
     "data": {
      "text/html": [
       "<div>\n",
       "<style scoped>\n",
       "    .dataframe tbody tr th:only-of-type {\n",
       "        vertical-align: middle;\n",
       "    }\n",
       "\n",
       "    .dataframe tbody tr th {\n",
       "        vertical-align: top;\n",
       "    }\n",
       "\n",
       "    .dataframe thead th {\n",
       "        text-align: right;\n",
       "    }\n",
       "</style>\n",
       "<table border=\"1\" class=\"dataframe\">\n",
       "  <thead>\n",
       "    <tr style=\"text-align: right;\">\n",
       "      <th></th>\n",
       "      <th>Destination Port</th>\n",
       "      <th>Flow Duration</th>\n",
       "      <th>Total Fwd Packets</th>\n",
       "      <th>Total Backward Packets</th>\n",
       "      <th>Total Length of Fwd Packets</th>\n",
       "      <th>Total Length of Bwd Packets</th>\n",
       "      <th>Fwd Packet Length Max</th>\n",
       "      <th>Fwd Packet Length Min</th>\n",
       "      <th>Fwd Packet Length Mean</th>\n",
       "      <th>Fwd Packet Length Std</th>\n",
       "      <th>Bwd Packet Length Max</th>\n",
       "      <th>Bwd Packet Length Min</th>\n",
       "      <th>Bwd Packet Length Mean</th>\n",
       "      <th>Bwd Packet Length Std</th>\n",
       "      <th>Flow Bytes/s</th>\n",
       "      <th>Flow Packets/s</th>\n",
       "      <th>Flow IAT Mean</th>\n",
       "      <th>Flow IAT Std</th>\n",
       "      <th>Flow IAT Max</th>\n",
       "      <th>Flow IAT Min</th>\n",
       "      <th>Fwd IAT Total</th>\n",
       "      <th>Fwd IAT Mean</th>\n",
       "      <th>Fwd IAT Std</th>\n",
       "      <th>Fwd IAT Max</th>\n",
       "      <th>Fwd IAT Min</th>\n",
       "      <th>Bwd IAT Total</th>\n",
       "      <th>Bwd IAT Mean</th>\n",
       "      <th>Bwd IAT Std</th>\n",
       "      <th>Bwd IAT Max</th>\n",
       "      <th>Bwd IAT Min</th>\n",
       "      <th>Fwd PSH Flags</th>\n",
       "      <th>Bwd PSH Flags</th>\n",
       "      <th>Bwd URG Flags</th>\n",
       "      <th>Fwd Packets/s</th>\n",
       "      <th>Bwd Packets/s</th>\n",
       "      <th>Min Packet Length</th>\n",
       "      <th>Max Packet Length</th>\n",
       "      <th>Packet Length Mean</th>\n",
       "      <th>Packet Length Std</th>\n",
       "      <th>Packet Length Variance</th>\n",
       "      <th>FIN Flag Count</th>\n",
       "      <th>SYN Flag Count</th>\n",
       "      <th>RST Flag Count</th>\n",
       "      <th>PSH Flag Count</th>\n",
       "      <th>ACK Flag Count</th>\n",
       "      <th>URG Flag Count</th>\n",
       "      <th>CWE Flag Count</th>\n",
       "      <th>Down/Up Ratio</th>\n",
       "      <th>Average Packet Size</th>\n",
       "      <th>Avg Fwd Segment Size</th>\n",
       "      <th>Avg Bwd Segment Size</th>\n",
       "      <th>Fwd Header Length.1</th>\n",
       "      <th>Fwd Avg Bytes/Bulk</th>\n",
       "      <th>Fwd Avg Packets/Bulk</th>\n",
       "      <th>Fwd Avg Bulk Rate</th>\n",
       "      <th>Bwd Avg Bytes/Bulk</th>\n",
       "      <th>Bwd Avg Packets/Bulk</th>\n",
       "      <th>Bwd Avg Bulk Rate</th>\n",
       "      <th>Subflow Fwd Packets</th>\n",
       "      <th>Subflow Fwd Bytes</th>\n",
       "      <th>Subflow Bwd Packets</th>\n",
       "      <th>Init_Win_bytes_backward</th>\n",
       "      <th>Active Mean</th>\n",
       "      <th>Active Std</th>\n",
       "      <th>Active Min</th>\n",
       "      <th>Idle Mean</th>\n",
       "      <th>Idle Std</th>\n",
       "      <th>Idle Max</th>\n",
       "      <th>Idle Min</th>\n",
       "    </tr>\n",
       "  </thead>\n",
       "  <tbody>\n",
       "    <tr>\n",
       "      <th>91166</th>\n",
       "      <td>123</td>\n",
       "      <td>22289</td>\n",
       "      <td>1</td>\n",
       "      <td>1</td>\n",
       "      <td>48</td>\n",
       "      <td>48</td>\n",
       "      <td>48</td>\n",
       "      <td>48</td>\n",
       "      <td>48.000000</td>\n",
       "      <td>0.000000</td>\n",
       "      <td>48</td>\n",
       "      <td>48</td>\n",
       "      <td>48.000000</td>\n",
       "      <td>0.000000</td>\n",
       "      <td>4307.057293</td>\n",
       "      <td>89.730360</td>\n",
       "      <td>2.228900e+04</td>\n",
       "      <td>0.000000e+00</td>\n",
       "      <td>22289</td>\n",
       "      <td>22289</td>\n",
       "      <td>0</td>\n",
       "      <td>0.000000e+00</td>\n",
       "      <td>0.000000e+00</td>\n",
       "      <td>0</td>\n",
       "      <td>0</td>\n",
       "      <td>0</td>\n",
       "      <td>0.00</td>\n",
       "      <td>0.000000e+00</td>\n",
       "      <td>0</td>\n",
       "      <td>0</td>\n",
       "      <td>0</td>\n",
       "      <td>0</td>\n",
       "      <td>0</td>\n",
       "      <td>44.865180</td>\n",
       "      <td>44.865180</td>\n",
       "      <td>48</td>\n",
       "      <td>48</td>\n",
       "      <td>48.000000</td>\n",
       "      <td>0.000000</td>\n",
       "      <td>0.000000e+00</td>\n",
       "      <td>0</td>\n",
       "      <td>0</td>\n",
       "      <td>0</td>\n",
       "      <td>0</td>\n",
       "      <td>0</td>\n",
       "      <td>0</td>\n",
       "      <td>0</td>\n",
       "      <td>1</td>\n",
       "      <td>72.000000</td>\n",
       "      <td>48.000000</td>\n",
       "      <td>48.000000</td>\n",
       "      <td>32</td>\n",
       "      <td>0</td>\n",
       "      <td>0</td>\n",
       "      <td>0</td>\n",
       "      <td>0</td>\n",
       "      <td>0</td>\n",
       "      <td>0</td>\n",
       "      <td>1</td>\n",
       "      <td>48</td>\n",
       "      <td>1</td>\n",
       "      <td>-1</td>\n",
       "      <td>0.0</td>\n",
       "      <td>0.0</td>\n",
       "      <td>0</td>\n",
       "      <td>0.0</td>\n",
       "      <td>0.0</td>\n",
       "      <td>0</td>\n",
       "      <td>0</td>\n",
       "    </tr>\n",
       "    <tr>\n",
       "      <th>156207</th>\n",
       "      <td>80</td>\n",
       "      <td>100534705</td>\n",
       "      <td>8</td>\n",
       "      <td>6</td>\n",
       "      <td>626</td>\n",
       "      <td>11595</td>\n",
       "      <td>310</td>\n",
       "      <td>0</td>\n",
       "      <td>78.250000</td>\n",
       "      <td>143.054185</td>\n",
       "      <td>5792</td>\n",
       "      <td>0</td>\n",
       "      <td>1932.500000</td>\n",
       "      <td>2181.008184</td>\n",
       "      <td>121.560012</td>\n",
       "      <td>0.139255</td>\n",
       "      <td>7.733439e+06</td>\n",
       "      <td>2.780000e+07</td>\n",
       "      <td>100000000</td>\n",
       "      <td>1</td>\n",
       "      <td>100000000</td>\n",
       "      <td>1.430000e+07</td>\n",
       "      <td>3.780000e+07</td>\n",
       "      <td>100000000</td>\n",
       "      <td>1</td>\n",
       "      <td>356492</td>\n",
       "      <td>71298.40</td>\n",
       "      <td>1.018958e+05</td>\n",
       "      <td>219979</td>\n",
       "      <td>44</td>\n",
       "      <td>0</td>\n",
       "      <td>0</td>\n",
       "      <td>0</td>\n",
       "      <td>0.079575</td>\n",
       "      <td>0.059681</td>\n",
       "      <td>0</td>\n",
       "      <td>5792</td>\n",
       "      <td>814.733333</td>\n",
       "      <td>1613.042842</td>\n",
       "      <td>2.601907e+06</td>\n",
       "      <td>0</td>\n",
       "      <td>0</td>\n",
       "      <td>0</td>\n",
       "      <td>0</td>\n",
       "      <td>1</td>\n",
       "      <td>0</td>\n",
       "      <td>0</td>\n",
       "      <td>0</td>\n",
       "      <td>872.928571</td>\n",
       "      <td>78.250000</td>\n",
       "      <td>1932.500000</td>\n",
       "      <td>252</td>\n",
       "      <td>0</td>\n",
       "      <td>0</td>\n",
       "      <td>0</td>\n",
       "      <td>0</td>\n",
       "      <td>0</td>\n",
       "      <td>0</td>\n",
       "      <td>8</td>\n",
       "      <td>626</td>\n",
       "      <td>6</td>\n",
       "      <td>235</td>\n",
       "      <td>973.0</td>\n",
       "      <td>0.0</td>\n",
       "      <td>973</td>\n",
       "      <td>100000000.0</td>\n",
       "      <td>0.0</td>\n",
       "      <td>100000000</td>\n",
       "      <td>100000000</td>\n",
       "    </tr>\n",
       "    <tr>\n",
       "      <th>391267</th>\n",
       "      <td>443</td>\n",
       "      <td>1994914</td>\n",
       "      <td>7</td>\n",
       "      <td>6</td>\n",
       "      <td>1588</td>\n",
       "      <td>1088</td>\n",
       "      <td>1020</td>\n",
       "      <td>0</td>\n",
       "      <td>226.857143</td>\n",
       "      <td>397.919769</td>\n",
       "      <td>951</td>\n",
       "      <td>0</td>\n",
       "      <td>181.333333</td>\n",
       "      <td>381.019510</td>\n",
       "      <td>1341.411209</td>\n",
       "      <td>6.516572</td>\n",
       "      <td>1.662428e+05</td>\n",
       "      <td>5.630971e+05</td>\n",
       "      <td>1954007</td>\n",
       "      <td>23</td>\n",
       "      <td>40907</td>\n",
       "      <td>6.817833e+03</td>\n",
       "      <td>1.577456e+04</td>\n",
       "      <td>39011</td>\n",
       "      <td>137</td>\n",
       "      <td>1994690</td>\n",
       "      <td>398938.00</td>\n",
       "      <td>8.898764e+05</td>\n",
       "      <td>1990797</td>\n",
       "      <td>467</td>\n",
       "      <td>0</td>\n",
       "      <td>0</td>\n",
       "      <td>0</td>\n",
       "      <td>3.508923</td>\n",
       "      <td>3.007648</td>\n",
       "      <td>0</td>\n",
       "      <td>1020</td>\n",
       "      <td>191.142857</td>\n",
       "      <td>363.948614</td>\n",
       "      <td>1.324586e+05</td>\n",
       "      <td>0</td>\n",
       "      <td>0</td>\n",
       "      <td>0</td>\n",
       "      <td>1</td>\n",
       "      <td>0</td>\n",
       "      <td>0</td>\n",
       "      <td>0</td>\n",
       "      <td>0</td>\n",
       "      <td>205.846154</td>\n",
       "      <td>226.857143</td>\n",
       "      <td>181.333333</td>\n",
       "      <td>232</td>\n",
       "      <td>0</td>\n",
       "      <td>0</td>\n",
       "      <td>0</td>\n",
       "      <td>0</td>\n",
       "      <td>0</td>\n",
       "      <td>0</td>\n",
       "      <td>7</td>\n",
       "      <td>1588</td>\n",
       "      <td>6</td>\n",
       "      <td>8</td>\n",
       "      <td>0.0</td>\n",
       "      <td>0.0</td>\n",
       "      <td>0</td>\n",
       "      <td>0.0</td>\n",
       "      <td>0.0</td>\n",
       "      <td>0</td>\n",
       "      <td>0</td>\n",
       "    </tr>\n",
       "    <tr>\n",
       "      <th>515927</th>\n",
       "      <td>443</td>\n",
       "      <td>10239076</td>\n",
       "      <td>9</td>\n",
       "      <td>7</td>\n",
       "      <td>1248</td>\n",
       "      <td>3861</td>\n",
       "      <td>869</td>\n",
       "      <td>0</td>\n",
       "      <td>138.666667</td>\n",
       "      <td>284.580832</td>\n",
       "      <td>1867</td>\n",
       "      <td>0</td>\n",
       "      <td>551.571429</td>\n",
       "      <td>786.573340</td>\n",
       "      <td>498.970806</td>\n",
       "      <td>1.562641</td>\n",
       "      <td>6.826051e+05</td>\n",
       "      <td>2.601581e+06</td>\n",
       "      <td>10100000</td>\n",
       "      <td>39</td>\n",
       "      <td>10200000</td>\n",
       "      <td>1.275448e+06</td>\n",
       "      <td>3.560279e+06</td>\n",
       "      <td>10100000</td>\n",
       "      <td>147</td>\n",
       "      <td>10200000</td>\n",
       "      <td>1700571.50</td>\n",
       "      <td>4.125755e+06</td>\n",
       "      <td>10100000</td>\n",
       "      <td>214</td>\n",
       "      <td>0</td>\n",
       "      <td>0</td>\n",
       "      <td>0</td>\n",
       "      <td>0.878986</td>\n",
       "      <td>0.683655</td>\n",
       "      <td>0</td>\n",
       "      <td>1867</td>\n",
       "      <td>300.529412</td>\n",
       "      <td>566.090995</td>\n",
       "      <td>3.204590e+05</td>\n",
       "      <td>0</td>\n",
       "      <td>0</td>\n",
       "      <td>0</td>\n",
       "      <td>1</td>\n",
       "      <td>0</td>\n",
       "      <td>0</td>\n",
       "      <td>0</td>\n",
       "      <td>0</td>\n",
       "      <td>319.312500</td>\n",
       "      <td>138.666667</td>\n",
       "      <td>551.571429</td>\n",
       "      <td>200</td>\n",
       "      <td>0</td>\n",
       "      <td>0</td>\n",
       "      <td>0</td>\n",
       "      <td>0</td>\n",
       "      <td>0</td>\n",
       "      <td>0</td>\n",
       "      <td>9</td>\n",
       "      <td>1248</td>\n",
       "      <td>7</td>\n",
       "      <td>8201</td>\n",
       "      <td>117011.0</td>\n",
       "      <td>0.0</td>\n",
       "      <td>117011</td>\n",
       "      <td>10100000.0</td>\n",
       "      <td>0.0</td>\n",
       "      <td>10100000</td>\n",
       "      <td>10100000</td>\n",
       "    </tr>\n",
       "    <tr>\n",
       "      <th>95051</th>\n",
       "      <td>443</td>\n",
       "      <td>158251</td>\n",
       "      <td>10</td>\n",
       "      <td>5</td>\n",
       "      <td>673</td>\n",
       "      <td>927</td>\n",
       "      <td>437</td>\n",
       "      <td>0</td>\n",
       "      <td>67.300000</td>\n",
       "      <td>137.230585</td>\n",
       "      <td>789</td>\n",
       "      <td>0</td>\n",
       "      <td>185.400000</td>\n",
       "      <td>342.673022</td>\n",
       "      <td>10110.520629</td>\n",
       "      <td>94.786131</td>\n",
       "      <td>1.130364e+04</td>\n",
       "      <td>2.101457e+04</td>\n",
       "      <td>50456</td>\n",
       "      <td>4</td>\n",
       "      <td>158251</td>\n",
       "      <td>1.758344e+04</td>\n",
       "      <td>2.519662e+04</td>\n",
       "      <td>52541</td>\n",
       "      <td>39</td>\n",
       "      <td>104709</td>\n",
       "      <td>26177.25</td>\n",
       "      <td>2.854151e+04</td>\n",
       "      <td>51050</td>\n",
       "      <td>4</td>\n",
       "      <td>0</td>\n",
       "      <td>0</td>\n",
       "      <td>0</td>\n",
       "      <td>63.190754</td>\n",
       "      <td>31.595377</td>\n",
       "      <td>0</td>\n",
       "      <td>789</td>\n",
       "      <td>100.000000</td>\n",
       "      <td>215.460437</td>\n",
       "      <td>4.642320e+04</td>\n",
       "      <td>0</td>\n",
       "      <td>0</td>\n",
       "      <td>0</td>\n",
       "      <td>1</td>\n",
       "      <td>0</td>\n",
       "      <td>0</td>\n",
       "      <td>0</td>\n",
       "      <td>0</td>\n",
       "      <td>106.666667</td>\n",
       "      <td>67.300000</td>\n",
       "      <td>185.400000</td>\n",
       "      <td>332</td>\n",
       "      <td>0</td>\n",
       "      <td>0</td>\n",
       "      <td>0</td>\n",
       "      <td>0</td>\n",
       "      <td>0</td>\n",
       "      <td>0</td>\n",
       "      <td>10</td>\n",
       "      <td>673</td>\n",
       "      <td>5</td>\n",
       "      <td>123</td>\n",
       "      <td>0.0</td>\n",
       "      <td>0.0</td>\n",
       "      <td>0</td>\n",
       "      <td>0.0</td>\n",
       "      <td>0.0</td>\n",
       "      <td>0</td>\n",
       "      <td>0</td>\n",
       "    </tr>\n",
       "  </tbody>\n",
       "</table>\n",
       "</div>"
      ],
      "text/plain": [
       "         Destination Port   Flow Duration   Total Fwd Packets  \\\n",
       "91166                 123           22289                   1   \n",
       "156207                 80       100534705                   8   \n",
       "391267                443         1994914                   7   \n",
       "515927                443        10239076                   9   \n",
       "95051                 443          158251                  10   \n",
       "\n",
       "         Total Backward Packets  Total Length of Fwd Packets  \\\n",
       "91166                         1                           48   \n",
       "156207                        6                          626   \n",
       "391267                        6                         1588   \n",
       "515927                        7                         1248   \n",
       "95051                         5                          673   \n",
       "\n",
       "         Total Length of Bwd Packets   Fwd Packet Length Max  \\\n",
       "91166                             48                      48   \n",
       "156207                         11595                     310   \n",
       "391267                          1088                    1020   \n",
       "515927                          3861                     869   \n",
       "95051                            927                     437   \n",
       "\n",
       "         Fwd Packet Length Min   Fwd Packet Length Mean  \\\n",
       "91166                       48                48.000000   \n",
       "156207                       0                78.250000   \n",
       "391267                       0               226.857143   \n",
       "515927                       0               138.666667   \n",
       "95051                        0                67.300000   \n",
       "\n",
       "         Fwd Packet Length Std  Bwd Packet Length Max   Bwd Packet Length Min  \\\n",
       "91166                 0.000000                     48                      48   \n",
       "156207              143.054185                   5792                       0   \n",
       "391267              397.919769                    951                       0   \n",
       "515927              284.580832                   1867                       0   \n",
       "95051               137.230585                    789                       0   \n",
       "\n",
       "         Bwd Packet Length Mean   Bwd Packet Length Std  Flow Bytes/s  \\\n",
       "91166                 48.000000                0.000000   4307.057293   \n",
       "156207              1932.500000             2181.008184    121.560012   \n",
       "391267               181.333333              381.019510   1341.411209   \n",
       "515927               551.571429              786.573340    498.970806   \n",
       "95051                185.400000              342.673022  10110.520629   \n",
       "\n",
       "         Flow Packets/s   Flow IAT Mean   Flow IAT Std   Flow IAT Max  \\\n",
       "91166         89.730360    2.228900e+04   0.000000e+00          22289   \n",
       "156207         0.139255    7.733439e+06   2.780000e+07      100000000   \n",
       "391267         6.516572    1.662428e+05   5.630971e+05        1954007   \n",
       "515927         1.562641    6.826051e+05   2.601581e+06       10100000   \n",
       "95051         94.786131    1.130364e+04   2.101457e+04          50456   \n",
       "\n",
       "         Flow IAT Min  Fwd IAT Total   Fwd IAT Mean   Fwd IAT Std  \\\n",
       "91166           22289              0   0.000000e+00  0.000000e+00   \n",
       "156207              1      100000000   1.430000e+07  3.780000e+07   \n",
       "391267             23          40907   6.817833e+03  1.577456e+04   \n",
       "515927             39       10200000   1.275448e+06  3.560279e+06   \n",
       "95051               4         158251   1.758344e+04  2.519662e+04   \n",
       "\n",
       "         Fwd IAT Max   Fwd IAT Min  Bwd IAT Total   Bwd IAT Mean  \\\n",
       "91166              0             0              0           0.00   \n",
       "156207     100000000             1         356492       71298.40   \n",
       "391267         39011           137        1994690      398938.00   \n",
       "515927      10100000           147       10200000     1700571.50   \n",
       "95051          52541            39         104709       26177.25   \n",
       "\n",
       "         Bwd IAT Std   Bwd IAT Max   Bwd IAT Min  Fwd PSH Flags  \\\n",
       "91166   0.000000e+00             0             0              0   \n",
       "156207  1.018958e+05        219979            44              0   \n",
       "391267  8.898764e+05       1990797           467              0   \n",
       "515927  4.125755e+06      10100000           214              0   \n",
       "95051   2.854151e+04         51050             4              0   \n",
       "\n",
       "         Bwd PSH Flags   Bwd URG Flags  Fwd Packets/s   Bwd Packets/s  \\\n",
       "91166                0               0      44.865180       44.865180   \n",
       "156207               0               0       0.079575        0.059681   \n",
       "391267               0               0       3.508923        3.007648   \n",
       "515927               0               0       0.878986        0.683655   \n",
       "95051                0               0      63.190754       31.595377   \n",
       "\n",
       "         Min Packet Length   Max Packet Length   Packet Length Mean  \\\n",
       "91166                   48                  48            48.000000   \n",
       "156207                   0                5792           814.733333   \n",
       "391267                   0                1020           191.142857   \n",
       "515927                   0                1867           300.529412   \n",
       "95051                    0                 789           100.000000   \n",
       "\n",
       "         Packet Length Std   Packet Length Variance  FIN Flag Count  \\\n",
       "91166             0.000000             0.000000e+00               0   \n",
       "156207         1613.042842             2.601907e+06               0   \n",
       "391267          363.948614             1.324586e+05               0   \n",
       "515927          566.090995             3.204590e+05               0   \n",
       "95051           215.460437             4.642320e+04               0   \n",
       "\n",
       "         SYN Flag Count   RST Flag Count   PSH Flag Count   ACK Flag Count  \\\n",
       "91166                 0                0                0                0   \n",
       "156207                0                0                0                1   \n",
       "391267                0                0                1                0   \n",
       "515927                0                0                1                0   \n",
       "95051                 0                0                1                0   \n",
       "\n",
       "         URG Flag Count   CWE Flag Count   Down/Up Ratio  \\\n",
       "91166                 0                0               1   \n",
       "156207                0                0               0   \n",
       "391267                0                0               0   \n",
       "515927                0                0               0   \n",
       "95051                 0                0               0   \n",
       "\n",
       "         Average Packet Size   Avg Fwd Segment Size   Avg Bwd Segment Size  \\\n",
       "91166              72.000000              48.000000              48.000000   \n",
       "156207            872.928571              78.250000            1932.500000   \n",
       "391267            205.846154             226.857143             181.333333   \n",
       "515927            319.312500             138.666667             551.571429   \n",
       "95051             106.666667              67.300000             185.400000   \n",
       "\n",
       "         Fwd Header Length.1  Fwd Avg Bytes/Bulk   Fwd Avg Packets/Bulk  \\\n",
       "91166                     32                   0                      0   \n",
       "156207                   252                   0                      0   \n",
       "391267                   232                   0                      0   \n",
       "515927                   200                   0                      0   \n",
       "95051                    332                   0                      0   \n",
       "\n",
       "         Fwd Avg Bulk Rate   Bwd Avg Bytes/Bulk   Bwd Avg Packets/Bulk  \\\n",
       "91166                    0                    0                      0   \n",
       "156207                   0                    0                      0   \n",
       "391267                   0                    0                      0   \n",
       "515927                   0                    0                      0   \n",
       "95051                    0                    0                      0   \n",
       "\n",
       "        Bwd Avg Bulk Rate  Subflow Fwd Packets   Subflow Fwd Bytes  \\\n",
       "91166                   0                    1                  48   \n",
       "156207                  0                    8                 626   \n",
       "391267                  0                    7                1588   \n",
       "515927                  0                    9                1248   \n",
       "95051                   0                   10                 673   \n",
       "\n",
       "         Subflow Bwd Packets   Init_Win_bytes_backward  Active Mean  \\\n",
       "91166                      1                        -1          0.0   \n",
       "156207                     6                       235        973.0   \n",
       "391267                     6                         8          0.0   \n",
       "515927                     7                      8201     117011.0   \n",
       "95051                      5                       123          0.0   \n",
       "\n",
       "         Active Std   Active Min    Idle Mean   Idle Std   Idle Max   Idle Min  \n",
       "91166           0.0            0          0.0        0.0          0          0  \n",
       "156207          0.0          973  100000000.0        0.0  100000000  100000000  \n",
       "391267          0.0            0          0.0        0.0          0          0  \n",
       "515927          0.0       117011   10100000.0        0.0   10100000   10100000  \n",
       "95051           0.0            0          0.0        0.0          0          0  "
      ]
     },
     "execution_count": 23,
     "metadata": {},
     "output_type": "execute_result"
    }
   ],
   "source": [
    "x_train.head()"
   ]
  },
  {
   "cell_type": "code",
   "execution_count": 24,
   "metadata": {
    "colab": {
     "base_uri": "https://localhost:8080/"
    },
    "id": "4x5qntKxWK8R",
    "outputId": "63d0da7b-60da-4b54-8b27-cb7cabd8bf26"
   },
   "outputs": [
    {
     "data": {
      "text/plain": [
       "(1890598,)"
      ]
     },
     "execution_count": 24,
     "metadata": {},
     "output_type": "execute_result"
    }
   ],
   "source": [
    "y_train.shape"
   ]
  },
  {
   "cell_type": "code",
   "execution_count": 25,
   "metadata": {
    "colab": {
     "base_uri": "https://localhost:8080/"
    },
    "id": "UFh_-OUgWPcb",
    "outputId": "6c211b55-7d61-4f81-ea81-518dcacda77a"
   },
   "outputs": [
    {
     "data": {
      "text/plain": [
       "91166     0\n",
       "156207    1\n",
       "391267    0\n",
       "515927    0\n",
       "95051     0\n",
       "Name:  Label, dtype: int64"
      ]
     },
     "execution_count": 25,
     "metadata": {},
     "output_type": "execute_result"
    }
   ],
   "source": [
    "y_train.head()"
   ]
  },
  {
   "cell_type": "markdown",
   "metadata": {
    "id": "lEWVvqdOYEFx"
   },
   "source": [
    "\n",
    "\n"
   ]
  },
  {
   "cell_type": "code",
   "execution_count": 26,
   "metadata": {
    "colab": {
     "base_uri": "https://localhost:8080/",
     "height": 322
    },
    "id": "EwAe3_RcPSat",
    "outputId": "29800f39-d84b-4cc1-84fc-226603d2ac61"
   },
   "outputs": [
    {
     "data": {
      "text/html": [
       "<div>\n",
       "<style scoped>\n",
       "    .dataframe tbody tr th:only-of-type {\n",
       "        vertical-align: middle;\n",
       "    }\n",
       "\n",
       "    .dataframe tbody tr th {\n",
       "        vertical-align: top;\n",
       "    }\n",
       "\n",
       "    .dataframe thead th {\n",
       "        text-align: right;\n",
       "    }\n",
       "</style>\n",
       "<table border=\"1\" class=\"dataframe\">\n",
       "  <thead>\n",
       "    <tr style=\"text-align: right;\">\n",
       "      <th></th>\n",
       "      <th>Destination Port</th>\n",
       "      <th>Flow Duration</th>\n",
       "      <th>Total Fwd Packets</th>\n",
       "      <th>Total Backward Packets</th>\n",
       "      <th>Total Length of Fwd Packets</th>\n",
       "      <th>Total Length of Bwd Packets</th>\n",
       "      <th>Fwd Packet Length Max</th>\n",
       "      <th>Fwd Packet Length Min</th>\n",
       "      <th>Fwd Packet Length Mean</th>\n",
       "      <th>Fwd Packet Length Std</th>\n",
       "      <th>Bwd Packet Length Max</th>\n",
       "      <th>Bwd Packet Length Min</th>\n",
       "      <th>Bwd Packet Length Mean</th>\n",
       "      <th>Bwd Packet Length Std</th>\n",
       "      <th>Flow Bytes/s</th>\n",
       "      <th>Flow Packets/s</th>\n",
       "      <th>Flow IAT Mean</th>\n",
       "      <th>Flow IAT Std</th>\n",
       "      <th>Flow IAT Max</th>\n",
       "      <th>Flow IAT Min</th>\n",
       "      <th>Fwd IAT Total</th>\n",
       "      <th>Fwd IAT Mean</th>\n",
       "      <th>Fwd IAT Std</th>\n",
       "      <th>Fwd IAT Max</th>\n",
       "      <th>Fwd IAT Min</th>\n",
       "      <th>Bwd IAT Total</th>\n",
       "      <th>Bwd IAT Mean</th>\n",
       "      <th>Bwd IAT Std</th>\n",
       "      <th>Bwd IAT Max</th>\n",
       "      <th>Bwd IAT Min</th>\n",
       "      <th>Fwd PSH Flags</th>\n",
       "      <th>Bwd PSH Flags</th>\n",
       "      <th>Bwd URG Flags</th>\n",
       "      <th>Fwd Packets/s</th>\n",
       "      <th>Bwd Packets/s</th>\n",
       "      <th>Min Packet Length</th>\n",
       "      <th>Max Packet Length</th>\n",
       "      <th>Packet Length Mean</th>\n",
       "      <th>Packet Length Std</th>\n",
       "      <th>Packet Length Variance</th>\n",
       "      <th>FIN Flag Count</th>\n",
       "      <th>SYN Flag Count</th>\n",
       "      <th>RST Flag Count</th>\n",
       "      <th>PSH Flag Count</th>\n",
       "      <th>ACK Flag Count</th>\n",
       "      <th>URG Flag Count</th>\n",
       "      <th>CWE Flag Count</th>\n",
       "      <th>Down/Up Ratio</th>\n",
       "      <th>Average Packet Size</th>\n",
       "      <th>Avg Fwd Segment Size</th>\n",
       "      <th>Avg Bwd Segment Size</th>\n",
       "      <th>Fwd Header Length.1</th>\n",
       "      <th>Fwd Avg Bytes/Bulk</th>\n",
       "      <th>Fwd Avg Packets/Bulk</th>\n",
       "      <th>Fwd Avg Bulk Rate</th>\n",
       "      <th>Bwd Avg Bytes/Bulk</th>\n",
       "      <th>Bwd Avg Packets/Bulk</th>\n",
       "      <th>Bwd Avg Bulk Rate</th>\n",
       "      <th>Subflow Fwd Packets</th>\n",
       "      <th>Subflow Fwd Bytes</th>\n",
       "      <th>Subflow Bwd Packets</th>\n",
       "      <th>Init_Win_bytes_backward</th>\n",
       "      <th>Active Mean</th>\n",
       "      <th>Active Std</th>\n",
       "      <th>Active Min</th>\n",
       "      <th>Idle Mean</th>\n",
       "      <th>Idle Std</th>\n",
       "      <th>Idle Max</th>\n",
       "      <th>Idle Min</th>\n",
       "    </tr>\n",
       "  </thead>\n",
       "  <tbody>\n",
       "    <tr>\n",
       "      <th>113806</th>\n",
       "      <td>53</td>\n",
       "      <td>61974</td>\n",
       "      <td>2</td>\n",
       "      <td>2</td>\n",
       "      <td>60</td>\n",
       "      <td>344</td>\n",
       "      <td>30</td>\n",
       "      <td>30</td>\n",
       "      <td>30.000000</td>\n",
       "      <td>0.000000</td>\n",
       "      <td>172</td>\n",
       "      <td>172</td>\n",
       "      <td>172.000</td>\n",
       "      <td>0.000000</td>\n",
       "      <td>6518.862749</td>\n",
       "      <td>64.543196</td>\n",
       "      <td>20658.000000</td>\n",
       "      <td>35738.278060</td>\n",
       "      <td>61925</td>\n",
       "      <td>1</td>\n",
       "      <td>1</td>\n",
       "      <td>1.00000</td>\n",
       "      <td>0.00000</td>\n",
       "      <td>1</td>\n",
       "      <td>1</td>\n",
       "      <td>48</td>\n",
       "      <td>48.00000</td>\n",
       "      <td>0.00000</td>\n",
       "      <td>48</td>\n",
       "      <td>48</td>\n",
       "      <td>0</td>\n",
       "      <td>0</td>\n",
       "      <td>0</td>\n",
       "      <td>32.271598</td>\n",
       "      <td>32.271598</td>\n",
       "      <td>30</td>\n",
       "      <td>172</td>\n",
       "      <td>86.800000</td>\n",
       "      <td>77.776603</td>\n",
       "      <td>6049.200000</td>\n",
       "      <td>0</td>\n",
       "      <td>0</td>\n",
       "      <td>0</td>\n",
       "      <td>0</td>\n",
       "      <td>0</td>\n",
       "      <td>0</td>\n",
       "      <td>0</td>\n",
       "      <td>1</td>\n",
       "      <td>108.5000</td>\n",
       "      <td>30.000000</td>\n",
       "      <td>172.000</td>\n",
       "      <td>64</td>\n",
       "      <td>0</td>\n",
       "      <td>0</td>\n",
       "      <td>0</td>\n",
       "      <td>0</td>\n",
       "      <td>0</td>\n",
       "      <td>0</td>\n",
       "      <td>2</td>\n",
       "      <td>60</td>\n",
       "      <td>2</td>\n",
       "      <td>-1</td>\n",
       "      <td>0.0</td>\n",
       "      <td>0.0</td>\n",
       "      <td>0</td>\n",
       "      <td>0.0</td>\n",
       "      <td>0.0</td>\n",
       "      <td>0</td>\n",
       "      <td>0</td>\n",
       "    </tr>\n",
       "    <tr>\n",
       "      <th>468213</th>\n",
       "      <td>53474</td>\n",
       "      <td>208</td>\n",
       "      <td>3</td>\n",
       "      <td>1</td>\n",
       "      <td>31</td>\n",
       "      <td>6</td>\n",
       "      <td>31</td>\n",
       "      <td>0</td>\n",
       "      <td>10.333333</td>\n",
       "      <td>17.897858</td>\n",
       "      <td>6</td>\n",
       "      <td>6</td>\n",
       "      <td>6.000</td>\n",
       "      <td>0.000000</td>\n",
       "      <td>177884.615400</td>\n",
       "      <td>19230.769230</td>\n",
       "      <td>69.333333</td>\n",
       "      <td>70.287505</td>\n",
       "      <td>143</td>\n",
       "      <td>3</td>\n",
       "      <td>208</td>\n",
       "      <td>104.00000</td>\n",
       "      <td>142.83557</td>\n",
       "      <td>205</td>\n",
       "      <td>3</td>\n",
       "      <td>0</td>\n",
       "      <td>0.00000</td>\n",
       "      <td>0.00000</td>\n",
       "      <td>0</td>\n",
       "      <td>0</td>\n",
       "      <td>0</td>\n",
       "      <td>0</td>\n",
       "      <td>0</td>\n",
       "      <td>14423.076920</td>\n",
       "      <td>4807.692308</td>\n",
       "      <td>0</td>\n",
       "      <td>31</td>\n",
       "      <td>7.400000</td>\n",
       "      <td>13.446189</td>\n",
       "      <td>180.800000</td>\n",
       "      <td>0</td>\n",
       "      <td>0</td>\n",
       "      <td>0</td>\n",
       "      <td>0</td>\n",
       "      <td>1</td>\n",
       "      <td>0</td>\n",
       "      <td>0</td>\n",
       "      <td>0</td>\n",
       "      <td>9.2500</td>\n",
       "      <td>10.333333</td>\n",
       "      <td>6.000</td>\n",
       "      <td>96</td>\n",
       "      <td>0</td>\n",
       "      <td>0</td>\n",
       "      <td>0</td>\n",
       "      <td>0</td>\n",
       "      <td>0</td>\n",
       "      <td>0</td>\n",
       "      <td>3</td>\n",
       "      <td>31</td>\n",
       "      <td>1</td>\n",
       "      <td>0</td>\n",
       "      <td>0.0</td>\n",
       "      <td>0.0</td>\n",
       "      <td>0</td>\n",
       "      <td>0.0</td>\n",
       "      <td>0.0</td>\n",
       "      <td>0</td>\n",
       "      <td>0</td>\n",
       "    </tr>\n",
       "    <tr>\n",
       "      <th>539512</th>\n",
       "      <td>53</td>\n",
       "      <td>31232</td>\n",
       "      <td>2</td>\n",
       "      <td>2</td>\n",
       "      <td>86</td>\n",
       "      <td>194</td>\n",
       "      <td>43</td>\n",
       "      <td>43</td>\n",
       "      <td>43.000000</td>\n",
       "      <td>0.000000</td>\n",
       "      <td>97</td>\n",
       "      <td>97</td>\n",
       "      <td>97.000</td>\n",
       "      <td>0.000000</td>\n",
       "      <td>8965.163934</td>\n",
       "      <td>128.073770</td>\n",
       "      <td>10410.666670</td>\n",
       "      <td>18025.741440</td>\n",
       "      <td>31225</td>\n",
       "      <td>3</td>\n",
       "      <td>3</td>\n",
       "      <td>3.00000</td>\n",
       "      <td>0.00000</td>\n",
       "      <td>3</td>\n",
       "      <td>3</td>\n",
       "      <td>4</td>\n",
       "      <td>4.00000</td>\n",
       "      <td>0.00000</td>\n",
       "      <td>4</td>\n",
       "      <td>4</td>\n",
       "      <td>0</td>\n",
       "      <td>0</td>\n",
       "      <td>0</td>\n",
       "      <td>64.036885</td>\n",
       "      <td>64.036885</td>\n",
       "      <td>43</td>\n",
       "      <td>97</td>\n",
       "      <td>64.600000</td>\n",
       "      <td>29.577018</td>\n",
       "      <td>874.800000</td>\n",
       "      <td>0</td>\n",
       "      <td>0</td>\n",
       "      <td>0</td>\n",
       "      <td>0</td>\n",
       "      <td>0</td>\n",
       "      <td>0</td>\n",
       "      <td>0</td>\n",
       "      <td>1</td>\n",
       "      <td>80.7500</td>\n",
       "      <td>43.000000</td>\n",
       "      <td>97.000</td>\n",
       "      <td>40</td>\n",
       "      <td>0</td>\n",
       "      <td>0</td>\n",
       "      <td>0</td>\n",
       "      <td>0</td>\n",
       "      <td>0</td>\n",
       "      <td>0</td>\n",
       "      <td>2</td>\n",
       "      <td>86</td>\n",
       "      <td>2</td>\n",
       "      <td>-1</td>\n",
       "      <td>0.0</td>\n",
       "      <td>0.0</td>\n",
       "      <td>0</td>\n",
       "      <td>0.0</td>\n",
       "      <td>0.0</td>\n",
       "      <td>0</td>\n",
       "      <td>0</td>\n",
       "    </tr>\n",
       "    <tr>\n",
       "      <th>227708</th>\n",
       "      <td>443</td>\n",
       "      <td>49</td>\n",
       "      <td>2</td>\n",
       "      <td>0</td>\n",
       "      <td>31</td>\n",
       "      <td>0</td>\n",
       "      <td>31</td>\n",
       "      <td>0</td>\n",
       "      <td>15.500000</td>\n",
       "      <td>21.920310</td>\n",
       "      <td>0</td>\n",
       "      <td>0</td>\n",
       "      <td>0.000</td>\n",
       "      <td>0.000000</td>\n",
       "      <td>632653.061224</td>\n",
       "      <td>40816.326531</td>\n",
       "      <td>49.000000</td>\n",
       "      <td>0.000000</td>\n",
       "      <td>49</td>\n",
       "      <td>49</td>\n",
       "      <td>49</td>\n",
       "      <td>49.00000</td>\n",
       "      <td>0.00000</td>\n",
       "      <td>49</td>\n",
       "      <td>49</td>\n",
       "      <td>0</td>\n",
       "      <td>0.00000</td>\n",
       "      <td>0.00000</td>\n",
       "      <td>0</td>\n",
       "      <td>0</td>\n",
       "      <td>1</td>\n",
       "      <td>0</td>\n",
       "      <td>0</td>\n",
       "      <td>40816.326531</td>\n",
       "      <td>0.000000</td>\n",
       "      <td>0</td>\n",
       "      <td>31</td>\n",
       "      <td>20.666667</td>\n",
       "      <td>17.897858</td>\n",
       "      <td>320.333333</td>\n",
       "      <td>0</td>\n",
       "      <td>1</td>\n",
       "      <td>0</td>\n",
       "      <td>0</td>\n",
       "      <td>1</td>\n",
       "      <td>0</td>\n",
       "      <td>0</td>\n",
       "      <td>0</td>\n",
       "      <td>31.0000</td>\n",
       "      <td>15.500000</td>\n",
       "      <td>0.000</td>\n",
       "      <td>64</td>\n",
       "      <td>0</td>\n",
       "      <td>0</td>\n",
       "      <td>0</td>\n",
       "      <td>0</td>\n",
       "      <td>0</td>\n",
       "      <td>0</td>\n",
       "      <td>2</td>\n",
       "      <td>31</td>\n",
       "      <td>0</td>\n",
       "      <td>-1</td>\n",
       "      <td>0.0</td>\n",
       "      <td>0.0</td>\n",
       "      <td>0</td>\n",
       "      <td>0.0</td>\n",
       "      <td>0.0</td>\n",
       "      <td>0</td>\n",
       "      <td>0</td>\n",
       "    </tr>\n",
       "    <tr>\n",
       "      <th>404943</th>\n",
       "      <td>443</td>\n",
       "      <td>540256</td>\n",
       "      <td>8</td>\n",
       "      <td>8</td>\n",
       "      <td>1340</td>\n",
       "      <td>3767</td>\n",
       "      <td>1006</td>\n",
       "      <td>0</td>\n",
       "      <td>167.500000</td>\n",
       "      <td>345.886439</td>\n",
       "      <td>1460</td>\n",
       "      <td>2</td>\n",
       "      <td>470.875</td>\n",
       "      <td>632.035812</td>\n",
       "      <td>9452.926020</td>\n",
       "      <td>29.615590</td>\n",
       "      <td>36017.066670</td>\n",
       "      <td>54994.863220</td>\n",
       "      <td>123747</td>\n",
       "      <td>1</td>\n",
       "      <td>416508</td>\n",
       "      <td>59501.14286</td>\n",
       "      <td>60698.66744</td>\n",
       "      <td>122576</td>\n",
       "      <td>186</td>\n",
       "      <td>419397</td>\n",
       "      <td>59913.85714</td>\n",
       "      <td>75936.40578</td>\n",
       "      <td>171730</td>\n",
       "      <td>1</td>\n",
       "      <td>0</td>\n",
       "      <td>0</td>\n",
       "      <td>0</td>\n",
       "      <td>14.807795</td>\n",
       "      <td>14.807795</td>\n",
       "      <td>0</td>\n",
       "      <td>1460</td>\n",
       "      <td>300.411765</td>\n",
       "      <td>506.074360</td>\n",
       "      <td>256111.257400</td>\n",
       "      <td>0</td>\n",
       "      <td>0</td>\n",
       "      <td>0</td>\n",
       "      <td>1</td>\n",
       "      <td>0</td>\n",
       "      <td>0</td>\n",
       "      <td>0</td>\n",
       "      <td>1</td>\n",
       "      <td>319.1875</td>\n",
       "      <td>167.500000</td>\n",
       "      <td>470.875</td>\n",
       "      <td>180</td>\n",
       "      <td>0</td>\n",
       "      <td>0</td>\n",
       "      <td>0</td>\n",
       "      <td>0</td>\n",
       "      <td>0</td>\n",
       "      <td>0</td>\n",
       "      <td>8</td>\n",
       "      <td>1340</td>\n",
       "      <td>8</td>\n",
       "      <td>32192</td>\n",
       "      <td>0.0</td>\n",
       "      <td>0.0</td>\n",
       "      <td>0</td>\n",
       "      <td>0.0</td>\n",
       "      <td>0.0</td>\n",
       "      <td>0</td>\n",
       "      <td>0</td>\n",
       "    </tr>\n",
       "  </tbody>\n",
       "</table>\n",
       "</div>"
      ],
      "text/plain": [
       "         Destination Port   Flow Duration   Total Fwd Packets  \\\n",
       "113806                 53           61974                   2   \n",
       "468213              53474             208                   3   \n",
       "539512                 53           31232                   2   \n",
       "227708                443              49                   2   \n",
       "404943                443          540256                   8   \n",
       "\n",
       "         Total Backward Packets  Total Length of Fwd Packets  \\\n",
       "113806                        2                           60   \n",
       "468213                        1                           31   \n",
       "539512                        2                           86   \n",
       "227708                        0                           31   \n",
       "404943                        8                         1340   \n",
       "\n",
       "         Total Length of Bwd Packets   Fwd Packet Length Max  \\\n",
       "113806                           344                      30   \n",
       "468213                             6                      31   \n",
       "539512                           194                      43   \n",
       "227708                             0                      31   \n",
       "404943                          3767                    1006   \n",
       "\n",
       "         Fwd Packet Length Min   Fwd Packet Length Mean  \\\n",
       "113806                      30                30.000000   \n",
       "468213                       0                10.333333   \n",
       "539512                      43                43.000000   \n",
       "227708                       0                15.500000   \n",
       "404943                       0               167.500000   \n",
       "\n",
       "         Fwd Packet Length Std  Bwd Packet Length Max   Bwd Packet Length Min  \\\n",
       "113806                0.000000                    172                     172   \n",
       "468213               17.897858                      6                       6   \n",
       "539512                0.000000                     97                      97   \n",
       "227708               21.920310                      0                       0   \n",
       "404943              345.886439                   1460                       2   \n",
       "\n",
       "         Bwd Packet Length Mean   Bwd Packet Length Std   Flow Bytes/s  \\\n",
       "113806                  172.000                0.000000    6518.862749   \n",
       "468213                    6.000                0.000000  177884.615400   \n",
       "539512                   97.000                0.000000    8965.163934   \n",
       "227708                    0.000                0.000000  632653.061224   \n",
       "404943                  470.875              632.035812    9452.926020   \n",
       "\n",
       "         Flow Packets/s   Flow IAT Mean   Flow IAT Std   Flow IAT Max  \\\n",
       "113806        64.543196    20658.000000   35738.278060          61925   \n",
       "468213     19230.769230       69.333333      70.287505            143   \n",
       "539512       128.073770    10410.666670   18025.741440          31225   \n",
       "227708     40816.326531       49.000000       0.000000             49   \n",
       "404943        29.615590    36017.066670   54994.863220         123747   \n",
       "\n",
       "         Flow IAT Min  Fwd IAT Total   Fwd IAT Mean   Fwd IAT Std  \\\n",
       "113806              1              1        1.00000       0.00000   \n",
       "468213              3            208      104.00000     142.83557   \n",
       "539512              3              3        3.00000       0.00000   \n",
       "227708             49             49       49.00000       0.00000   \n",
       "404943              1         416508    59501.14286   60698.66744   \n",
       "\n",
       "         Fwd IAT Max   Fwd IAT Min  Bwd IAT Total   Bwd IAT Mean  \\\n",
       "113806             1             1             48       48.00000   \n",
       "468213           205             3              0        0.00000   \n",
       "539512             3             3              4        4.00000   \n",
       "227708            49            49              0        0.00000   \n",
       "404943        122576           186         419397    59913.85714   \n",
       "\n",
       "         Bwd IAT Std   Bwd IAT Max   Bwd IAT Min  Fwd PSH Flags  \\\n",
       "113806       0.00000            48            48              0   \n",
       "468213       0.00000             0             0              0   \n",
       "539512       0.00000             4             4              0   \n",
       "227708       0.00000             0             0              1   \n",
       "404943   75936.40578        171730             1              0   \n",
       "\n",
       "         Bwd PSH Flags   Bwd URG Flags  Fwd Packets/s   Bwd Packets/s  \\\n",
       "113806               0               0      32.271598       32.271598   \n",
       "468213               0               0   14423.076920     4807.692308   \n",
       "539512               0               0      64.036885       64.036885   \n",
       "227708               0               0   40816.326531        0.000000   \n",
       "404943               0               0      14.807795       14.807795   \n",
       "\n",
       "         Min Packet Length   Max Packet Length   Packet Length Mean  \\\n",
       "113806                  30                 172            86.800000   \n",
       "468213                   0                  31             7.400000   \n",
       "539512                  43                  97            64.600000   \n",
       "227708                   0                  31            20.666667   \n",
       "404943                   0                1460           300.411765   \n",
       "\n",
       "         Packet Length Std   Packet Length Variance  FIN Flag Count  \\\n",
       "113806           77.776603              6049.200000               0   \n",
       "468213           13.446189               180.800000               0   \n",
       "539512           29.577018               874.800000               0   \n",
       "227708           17.897858               320.333333               0   \n",
       "404943          506.074360            256111.257400               0   \n",
       "\n",
       "         SYN Flag Count   RST Flag Count   PSH Flag Count   ACK Flag Count  \\\n",
       "113806                0                0                0                0   \n",
       "468213                0                0                0                1   \n",
       "539512                0                0                0                0   \n",
       "227708                1                0                0                1   \n",
       "404943                0                0                1                0   \n",
       "\n",
       "         URG Flag Count   CWE Flag Count   Down/Up Ratio  \\\n",
       "113806                0                0               1   \n",
       "468213                0                0               0   \n",
       "539512                0                0               1   \n",
       "227708                0                0               0   \n",
       "404943                0                0               1   \n",
       "\n",
       "         Average Packet Size   Avg Fwd Segment Size   Avg Bwd Segment Size  \\\n",
       "113806              108.5000              30.000000                172.000   \n",
       "468213                9.2500              10.333333                  6.000   \n",
       "539512               80.7500              43.000000                 97.000   \n",
       "227708               31.0000              15.500000                  0.000   \n",
       "404943              319.1875             167.500000                470.875   \n",
       "\n",
       "         Fwd Header Length.1  Fwd Avg Bytes/Bulk   Fwd Avg Packets/Bulk  \\\n",
       "113806                    64                   0                      0   \n",
       "468213                    96                   0                      0   \n",
       "539512                    40                   0                      0   \n",
       "227708                    64                   0                      0   \n",
       "404943                   180                   0                      0   \n",
       "\n",
       "         Fwd Avg Bulk Rate   Bwd Avg Bytes/Bulk   Bwd Avg Packets/Bulk  \\\n",
       "113806                   0                    0                      0   \n",
       "468213                   0                    0                      0   \n",
       "539512                   0                    0                      0   \n",
       "227708                   0                    0                      0   \n",
       "404943                   0                    0                      0   \n",
       "\n",
       "        Bwd Avg Bulk Rate  Subflow Fwd Packets   Subflow Fwd Bytes  \\\n",
       "113806                  0                    2                  60   \n",
       "468213                  0                    3                  31   \n",
       "539512                  0                    2                  86   \n",
       "227708                  0                    2                  31   \n",
       "404943                  0                    8                1340   \n",
       "\n",
       "         Subflow Bwd Packets   Init_Win_bytes_backward  Active Mean  \\\n",
       "113806                     2                        -1          0.0   \n",
       "468213                     1                         0          0.0   \n",
       "539512                     2                        -1          0.0   \n",
       "227708                     0                        -1          0.0   \n",
       "404943                     8                     32192          0.0   \n",
       "\n",
       "         Active Std   Active Min  Idle Mean   Idle Std   Idle Max   Idle Min  \n",
       "113806          0.0            0        0.0        0.0          0          0  \n",
       "468213          0.0            0        0.0        0.0          0          0  \n",
       "539512          0.0            0        0.0        0.0          0          0  \n",
       "227708          0.0            0        0.0        0.0          0          0  \n",
       "404943          0.0            0        0.0        0.0          0          0  "
      ]
     },
     "execution_count": 26,
     "metadata": {},
     "output_type": "execute_result"
    }
   ],
   "source": [
    "x_test.head()"
   ]
  },
  {
   "cell_type": "code",
   "execution_count": null,
   "metadata": {
    "colab": {
     "base_uri": "https://localhost:8080/",
     "height": 235
    },
    "id": "ZEVHNIZ1EAgF",
    "outputId": "d15cfb5d-fd52-4746-8774-888d6f932d4f"
   },
   "outputs": [],
   "source": [
    "from sklearn.ensemble import RandomForestRegressor\n",
    "from sklearn.model_selection import train_test_split\n",
    "import pandas as pd\n",
    "import numpy as np\n",
    "\n",
    "# Load\n",
    "\n",
    "\n",
    "# Create the random forest model\n",
    "rf_model = RandomForestRegressor(n_estimators=100, max_features='sqrt', random_state=42)\n",
    "\n",
    "# Fit the model on the training data\n",
    "rf_model.fit(x_train, y_train)\n",
    "\n",
    "# Predict on the testing data\n",
    "y_pred = rf_model.predict(x_test)\n"
   ]
  },
  {
   "cell_type": "code",
   "execution_count": null,
   "metadata": {
    "colab": {
     "base_uri": "https://localhost:8080/"
    },
    "id": "eo8_pnmYJM_V",
    "outputId": "3acb2fc5-a84b-4b83-8a9f-a94fa907d3ec"
   },
   "outputs": [],
   "source": [
    "\n",
    "# Calculate the mean squared error (MSE) and R-squared score\n",
    "mse = np.mean((y_pred - y_test)**2)\n",
    "r2 = rf_model.score(x_test, y_test)\n",
    "\n",
    "# Print the results\n",
    "print(f'Mean squared error: {mse:.2f}')\n",
    "print(f'R-squared score: {r2:.2f}')"
   ]
  },
  {
   "cell_type": "code",
   "execution_count": null,
   "metadata": {
    "colab": {
     "base_uri": "https://localhost:8080/"
    },
    "id": "DJnb_CdFJq1A",
    "outputId": "43a1d8b7-1fcd-4b5e-9a9d-f70f2903d9fe"
   },
   "outputs": [],
   "source": [
    "print(y_pred)\n",
    "y_predbin = (y_pred > 0.5).astype(int)\n",
    "print(y_predbin)"
   ]
  },
  {
   "cell_type": "code",
   "execution_count": null,
   "metadata": {
    "colab": {
     "base_uri": "https://localhost:8080/"
    },
    "id": "nZJh25YXEY93",
    "outputId": "d82b6b9d-5b26-4031-f159-9d7425578731"
   },
   "outputs": [],
   "source": [
    "from sklearn.metrics import accuracy_score, precision_score, recall_score, f1_score, confusion_matrix\n",
    "\n",
    "# Compute the evaluation metrics\n",
    "accuracy = accuracy_score(y_test, y_predbin)\n",
    "precision = precision_score(y_test, y_predbin)\n",
    "recall = recall_score(y_test, y_predbin)\n",
    "f1 = f1_score(y_test,y_predbin)\n",
    "confusion_mat = confusion_matrix(y_test, y_predbin)\n",
    "\n",
    "# Print the results\n",
    "print('Accuracy:', accuracy)\n",
    "print('Precision:', precision)\n",
    "print('Recall:', recall)\n",
    "print('F1 score:', f1)\n",
    "print('Confusion matrix:\\n', confusion_mat)\n"
   ]
  },
  {
   "cell_type": "code",
   "execution_count": null,
   "metadata": {
    "id": "eTCJJExtJR8c"
   },
   "outputs": [],
   "source": [
    "import pandas as pd\n",
    "from tensorflow.keras.models import Sequential , load_model\n",
    "from tensorflow.keras.layers import LSTM,Dense\n",
    "from sklearn.preprocessing import StandardScaler\n",
    "test = pd.read_csv('D:/pl/Zero-shield-main/Zero-shield-main/ml_models/flows.csv')"
   ]
  },
  {
   "cell_type": "code",
   "execution_count": null,
   "metadata": {
    "colab": {
     "base_uri": "https://localhost:8080/"
    },
    "id": "kFSSEhLLKf2m",
    "outputId": "c589ae28-638f-4d79-d41c-709a04d0c4b3"
   },
   "outputs": [],
   "source": [
    "print(test.shape)"
   ]
  },
  {
   "cell_type": "code",
   "execution_count": null,
   "metadata": {
    "colab": {
     "base_uri": "https://localhost:8080/"
    },
    "id": "TQWAQ6KYOby2",
    "outputId": "21209bca-e99f-46b5-bff1-d0ceb5c49fab"
   },
   "outputs": [],
   "source": [
    "ls=[4, 7, 8, 9, 10, 11, 12, 13, 14, 15, 16, 17, 18, 19, 20, 21, 22, 23, 24, 25, 26, 27, 28, 29, 30, 31, 32, 33, 34, 35, 36, 37, 38, 42, 43, 44, 45, 46, 47, 48, 49, 50, 51, 52, 53, 54, 55, 57, 58, 59, 60, 40, 61, 62, 63, 64, 65, 66, 67, 68, 69,72, 75, 76, 78, 79, 80, 81, 82]\n",
    "test = test.iloc[:,ls]\n",
    "print(test.shape)"
   ]
  },
  {
   "cell_type": "code",
   "execution_count": null,
   "metadata": {
    "id": "v628CA8CPF-U"
   },
   "outputs": [],
   "source": [
    "col_dict = dict(zip(test.columns, traincols))"
   ]
  },
  {
   "cell_type": "code",
   "execution_count": null,
   "metadata": {
    "colab": {
     "base_uri": "https://localhost:8080/"
    },
    "id": "9yA8vvSedcsn",
    "outputId": "d60918f0-fbb6-439f-d161-39d08de327df"
   },
   "outputs": [],
   "source": [
    "print(traincols)"
   ]
  },
  {
   "cell_type": "code",
   "execution_count": null,
   "metadata": {
    "colab": {
     "base_uri": "https://localhost:8080/",
     "height": 182
    },
    "id": "NUAANFikTAY6",
    "outputId": "67277157-0a0d-4b36-8654-97ea7218ab0a"
   },
   "outputs": [],
   "source": [
    "test = test.rename(columns = col_dict)\n",
    "test.head()"
   ]
  },
  {
   "cell_type": "code",
   "execution_count": null,
   "metadata": {
    "colab": {
     "base_uri": "https://localhost:8080/"
    },
    "id": "N5PE6SIiUCMW",
    "outputId": "c5658378-f93c-4d57-f35b-3879a3fef97d"
   },
   "outputs": [],
   "source": [
    "test = test[~test.isin([np.nan, np.inf, -np.inf]).any(1)]\n",
    "test.shape"
   ]
  },
  {
   "cell_type": "code",
   "execution_count": null,
   "metadata": {
    "id": "MyygHsfULY2t"
   },
   "outputs": [],
   "source": [
    "test_pred = rf_model.predict(test)\n",
    "test_pred = (test_pred > 0.5).astype(int)"
   ]
  },
  {
   "cell_type": "code",
   "execution_count": null,
   "metadata": {
    "colab": {
     "base_uri": "https://localhost:8080/"
    },
    "id": "wUr4VqLxMhTy",
    "outputId": "e9163ca9-c9f7-4a9a-cfcf-4a221638b643"
   },
   "outputs": [],
   "source": [
    "test_pred = list(test_pred)\n",
    "# print(test_label)\n",
    "print(test_pred)"
   ]
  },
  {
   "cell_type": "code",
   "execution_count": null,
   "metadata": {
    "id": "nI7IaD72NLdh"
   },
   "outputs": [],
   "source": [
    "test_pred = list(test_pred)"
   ]
  },
  {
   "cell_type": "code",
   "execution_count": null,
   "metadata": {
    "colab": {
     "base_uri": "https://localhost:8080/"
    },
    "id": "3uSlAPfOL__-",
    "outputId": "34c752b0-843c-4f89-c129-306391a71d57"
   },
   "outputs": [],
   "source": [
    "if test_pred.count(0) > test_pred.count(1):\n",
    "  print(\"Safe\")\n",
    "else:\n",
    "  print(\"Malicious\")"
   ]
  },
  {
   "cell_type": "code",
   "execution_count": null,
   "metadata": {
    "colab": {
     "base_uri": "https://localhost:8080/"
    },
    "id": "Kz8U6kSSNF9E",
    "outputId": "8035ea39-9640-420f-c7b3-bd0a69102e9c"
   },
   "outputs": [],
   "source": [
    "print(test_pred.count(0))\n",
    "print(test_pred.count(1))"
   ]
  },
  {
   "cell_type": "code",
   "execution_count": null,
   "metadata": {
    "id": "lxo8JxmkNcpS"
   },
   "outputs": [],
   "source": [
    "import pickle\n",
    "with open(\"RandomForestmodel\", 'wb') as file:\n",
    "    pickle.dump(rf_model, file)"
   ]
  },
  {
   "cell_type": "code",
   "execution_count": null,
   "metadata": {
    "id": "NWOkaIQEVjM5"
   },
   "outputs": [],
   "source": [
    "file.close()"
   ]
  },
  {
   "cell_type": "code",
   "execution_count": null,
   "metadata": {
    "id": "ttgO5idqVnZ5"
   },
   "outputs": [],
   "source": [
    "# import pickle\n",
    "\n",
    "# Define the path and filename of the saved model\n",
    "filename = 'RandomForestmodel'\n",
    "\n",
    "# Load the model from the pickle file\n",
    "with open(filename, 'rb') as file:\n",
    "    loaded_model = pickle.load(file)\n",
    "\n",
    "# Now you can use the loaded_model to make predictions on new data\n"
   ]
  },
  {
   "cell_type": "code",
   "execution_count": null,
   "metadata": {
    "id": "Qlg6qx6TWiuV"
   },
   "outputs": [],
   "source": [
    "test_pred = loaded_model.predict(test)"
   ]
  },
  {
   "cell_type": "code",
   "execution_count": null,
   "metadata": {
    "colab": {
     "base_uri": "https://localhost:8080/"
    },
    "id": "4iAUgEoFWpIf",
    "outputId": "bb272f4d-e154-4df1-ae40-cf42d4ed733a"
   },
   "outputs": [],
   "source": [
    "print(test_pred)"
   ]
  },
  {
   "cell_type": "code",
   "execution_count": null,
   "metadata": {
    "id": "6mROtdjqWsCz"
   },
   "outputs": [],
   "source": []
  }
 ],
 "metadata": {
  "colab": {
   "provenance": []
  },
  "kernelspec": {
   "display_name": "Python 3 (ipykernel)",
   "language": "python",
   "name": "python3"
  },
  "language_info": {
   "codemirror_mode": {
    "name": "ipython",
    "version": 3
   },
   "file_extension": ".py",
   "mimetype": "text/x-python",
   "name": "python",
   "nbconvert_exporter": "python",
   "pygments_lexer": "ipython3",
   "version": "3.8.0"
  }
 },
 "nbformat": 4,
 "nbformat_minor": 1
}
